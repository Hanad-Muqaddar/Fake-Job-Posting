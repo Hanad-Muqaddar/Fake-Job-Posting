{
 "cells": [
  {
   "cell_type": "code",
   "execution_count": 149,
   "metadata": {},
   "outputs": [],
   "source": [
    "import pandas as pd\n",
    "import matplotlib.pyplot as plt\n",
    "import seaborn as sns\n",
    "from gensim.parsing.preprocessing import STOPWORDS\n",
    "from sklearn.feature_extraction.text import TfidfVectorizer\n",
    "import pickle \n",
    "from sklearn.model_selection import train_test_split\n",
    "from sklearn.naive_bayes import MultinomialNB\n",
    "from sklearn.metrics import accuracy_score,f1_score\n",
    "# from sklearn import joblib "
   ]
  },
  {
   "cell_type": "code",
   "execution_count": 75,
   "metadata": {},
   "outputs": [],
   "source": [
    "df = pd.read_csv('job_train.csv')"
   ]
  },
  {
   "cell_type": "code",
   "execution_count": 76,
   "metadata": {},
   "outputs": [
    {
     "data": {
      "text/html": [
       "<div>\n",
       "<style scoped>\n",
       "    .dataframe tbody tr th:only-of-type {\n",
       "        vertical-align: middle;\n",
       "    }\n",
       "\n",
       "    .dataframe tbody tr th {\n",
       "        vertical-align: top;\n",
       "    }\n",
       "\n",
       "    .dataframe thead th {\n",
       "        text-align: right;\n",
       "    }\n",
       "</style>\n",
       "<table border=\"1\" class=\"dataframe\">\n",
       "  <thead>\n",
       "    <tr style=\"text-align: right;\">\n",
       "      <th></th>\n",
       "      <th>title</th>\n",
       "      <th>location</th>\n",
       "      <th>description</th>\n",
       "      <th>requirements</th>\n",
       "      <th>telecommuting</th>\n",
       "      <th>has_company_logo</th>\n",
       "      <th>has_questions</th>\n",
       "      <th>fraudulent</th>\n",
       "    </tr>\n",
       "  </thead>\n",
       "  <tbody>\n",
       "    <tr>\n",
       "      <th>0</th>\n",
       "      <td>Architect (Middleware - MQ) - Kuwait</td>\n",
       "      <td>KW, KU,</td>\n",
       "      <td>On behalf of our client, a well known multinat...</td>\n",
       "      <td>-Working technical knowledge of IT systems and...</td>\n",
       "      <td>0</td>\n",
       "      <td>1</td>\n",
       "      <td>0</td>\n",
       "      <td>0</td>\n",
       "    </tr>\n",
       "    <tr>\n",
       "      <th>1</th>\n",
       "      <td>Interviewing Now for Sales Rep Positions -- wi...</td>\n",
       "      <td>US, TX, Corpus Christi</td>\n",
       "      <td>We are Argenta Field Solutions, a rapidly expa...</td>\n",
       "      <td>#NAME?</td>\n",
       "      <td>0</td>\n",
       "      <td>1</td>\n",
       "      <td>0</td>\n",
       "      <td>0</td>\n",
       "    </tr>\n",
       "    <tr>\n",
       "      <th>2</th>\n",
       "      <td>Process Controls Staff Engineer - Foxboro I/A ...</td>\n",
       "      <td>US, TX, USA Southwest</td>\n",
       "      <td>Experienced Process Controls Staff Engineer is...</td>\n",
       "      <td>At least 10 years of degreed professional expe...</td>\n",
       "      <td>0</td>\n",
       "      <td>0</td>\n",
       "      <td>0</td>\n",
       "      <td>0</td>\n",
       "    </tr>\n",
       "    <tr>\n",
       "      <th>3</th>\n",
       "      <td>Experienced Telemarketer Wanted - Digital Solu...</td>\n",
       "      <td>AU, NSW,</td>\n",
       "      <td>If you have a passion for people and love to s...</td>\n",
       "      <td>Responsibilities - Prospecting, following up a...</td>\n",
       "      <td>0</td>\n",
       "      <td>1</td>\n",
       "      <td>0</td>\n",
       "      <td>0</td>\n",
       "    </tr>\n",
       "    <tr>\n",
       "      <th>4</th>\n",
       "      <td>Senior Network Engineer</td>\n",
       "      <td>GB, ENG, London</td>\n",
       "      <td>As the successful Senior Network Engineer you ...</td>\n",
       "      <td>Essential skills:•Juniper switching/routing/se...</td>\n",
       "      <td>0</td>\n",
       "      <td>1</td>\n",
       "      <td>0</td>\n",
       "      <td>0</td>\n",
       "    </tr>\n",
       "  </tbody>\n",
       "</table>\n",
       "</div>"
      ],
      "text/plain": [
       "                                               title                location  \\\n",
       "0               Architect (Middleware - MQ) - Kuwait                KW, KU,    \n",
       "1  Interviewing Now for Sales Rep Positions -- wi...  US, TX, Corpus Christi   \n",
       "2  Process Controls Staff Engineer - Foxboro I/A ...   US, TX, USA Southwest   \n",
       "3  Experienced Telemarketer Wanted - Digital Solu...               AU, NSW,    \n",
       "4                            Senior Network Engineer         GB, ENG, London   \n",
       "\n",
       "                                         description  \\\n",
       "0  On behalf of our client, a well known multinat...   \n",
       "1  We are Argenta Field Solutions, a rapidly expa...   \n",
       "2  Experienced Process Controls Staff Engineer is...   \n",
       "3  If you have a passion for people and love to s...   \n",
       "4  As the successful Senior Network Engineer you ...   \n",
       "\n",
       "                                        requirements  telecommuting  \\\n",
       "0  -Working technical knowledge of IT systems and...              0   \n",
       "1                                             #NAME?              0   \n",
       "2  At least 10 years of degreed professional expe...              0   \n",
       "3  Responsibilities - Prospecting, following up a...              0   \n",
       "4  Essential skills:•Juniper switching/routing/se...              0   \n",
       "\n",
       "   has_company_logo  has_questions  fraudulent  \n",
       "0                 1              0           0  \n",
       "1                 1              0           0  \n",
       "2                 0              0           0  \n",
       "3                 1              0           0  \n",
       "4                 1              0           0  "
      ]
     },
     "execution_count": 76,
     "metadata": {},
     "output_type": "execute_result"
    }
   ],
   "source": [
    "df.head()"
   ]
  },
  {
   "cell_type": "code",
   "execution_count": 77,
   "metadata": {},
   "outputs": [
    {
     "data": {
      "text/html": [
       "<div>\n",
       "<style scoped>\n",
       "    .dataframe tbody tr th:only-of-type {\n",
       "        vertical-align: middle;\n",
       "    }\n",
       "\n",
       "    .dataframe tbody tr th {\n",
       "        vertical-align: top;\n",
       "    }\n",
       "\n",
       "    .dataframe thead th {\n",
       "        text-align: right;\n",
       "    }\n",
       "</style>\n",
       "<table border=\"1\" class=\"dataframe\">\n",
       "  <thead>\n",
       "    <tr style=\"text-align: right;\">\n",
       "      <th></th>\n",
       "      <th>title</th>\n",
       "      <th>location</th>\n",
       "      <th>description</th>\n",
       "      <th>requirements</th>\n",
       "      <th>telecommuting</th>\n",
       "      <th>has_company_logo</th>\n",
       "      <th>has_questions</th>\n",
       "      <th>fraudulent</th>\n",
       "    </tr>\n",
       "  </thead>\n",
       "  <tbody>\n",
       "    <tr>\n",
       "      <th>8935</th>\n",
       "      <td>Financial Analyst</td>\n",
       "      <td>GR, I, Paiania</td>\n",
       "      <td>Financial analysis, reporting and review of de...</td>\n",
       "      <td>Postgraduate degree required. Economics or Fin...</td>\n",
       "      <td>0</td>\n",
       "      <td>1</td>\n",
       "      <td>1</td>\n",
       "      <td>0</td>\n",
       "    </tr>\n",
       "    <tr>\n",
       "      <th>8936</th>\n",
       "      <td>Customer Service Associate - Part Time</td>\n",
       "      <td>CA, ON, Peterborough</td>\n",
       "      <td>The Customer Service Associate will be based i...</td>\n",
       "      <td>Minimum Requirements:Minimum of 6 months custo...</td>\n",
       "      <td>0</td>\n",
       "      <td>1</td>\n",
       "      <td>0</td>\n",
       "      <td>0</td>\n",
       "    </tr>\n",
       "    <tr>\n",
       "      <th>8937</th>\n",
       "      <td>Sales Manager</td>\n",
       "      <td>UA, 61, Ternopil</td>\n",
       "      <td>Responsibilitiesactive sales, realization of c...</td>\n",
       "      <td>Main requirementsexperience with Sales (2+ yea...</td>\n",
       "      <td>0</td>\n",
       "      <td>0</td>\n",
       "      <td>1</td>\n",
       "      <td>0</td>\n",
       "    </tr>\n",
       "    <tr>\n",
       "      <th>8938</th>\n",
       "      <td>Administrative Assistant</td>\n",
       "      <td>US, CA, Santa Ana</td>\n",
       "      <td>In addition to clerical and administrative du...</td>\n",
       "      <td>NaN</td>\n",
       "      <td>0</td>\n",
       "      <td>0</td>\n",
       "      <td>0</td>\n",
       "      <td>1</td>\n",
       "    </tr>\n",
       "    <tr>\n",
       "      <th>8939</th>\n",
       "      <td>Sale Representatives</td>\n",
       "      <td>US, NY,</td>\n",
       "      <td>Sales Representative Job Purpose: To serve cus...</td>\n",
       "      <td>Our website is under construction. Take a mome...</td>\n",
       "      <td>0</td>\n",
       "      <td>1</td>\n",
       "      <td>0</td>\n",
       "      <td>0</td>\n",
       "    </tr>\n",
       "  </tbody>\n",
       "</table>\n",
       "</div>"
      ],
      "text/plain": [
       "                                        title              location  \\\n",
       "8935                        Financial Analyst        GR, I, Paiania   \n",
       "8936  Customer Service Associate - Part Time   CA, ON, Peterborough   \n",
       "8937                            Sales Manager      UA, 61, Ternopil   \n",
       "8938                 Administrative Assistant     US, CA, Santa Ana   \n",
       "8939                     Sale Representatives              US, NY,    \n",
       "\n",
       "                                            description  \\\n",
       "8935  Financial analysis, reporting and review of de...   \n",
       "8936  The Customer Service Associate will be based i...   \n",
       "8937  Responsibilitiesactive sales, realization of c...   \n",
       "8938   In addition to clerical and administrative du...   \n",
       "8939  Sales Representative Job Purpose: To serve cus...   \n",
       "\n",
       "                                           requirements  telecommuting  \\\n",
       "8935  Postgraduate degree required. Economics or Fin...              0   \n",
       "8936  Minimum Requirements:Minimum of 6 months custo...              0   \n",
       "8937  Main requirementsexperience with Sales (2+ yea...              0   \n",
       "8938                                                NaN              0   \n",
       "8939  Our website is under construction. Take a mome...              0   \n",
       "\n",
       "      has_company_logo  has_questions  fraudulent  \n",
       "8935                 1              1           0  \n",
       "8936                 1              0           0  \n",
       "8937                 0              1           0  \n",
       "8938                 0              0           1  \n",
       "8939                 1              0           0  "
      ]
     },
     "execution_count": 77,
     "metadata": {},
     "output_type": "execute_result"
    }
   ],
   "source": [
    "df.tail()"
   ]
  },
  {
   "cell_type": "code",
   "execution_count": 78,
   "metadata": {},
   "outputs": [
    {
     "data": {
      "text/plain": [
       "Index(['title', 'location', 'description', 'requirements', 'telecommuting',\n",
       "       'has_company_logo', 'has_questions', 'fraudulent'],\n",
       "      dtype='object')"
      ]
     },
     "execution_count": 78,
     "metadata": {},
     "output_type": "execute_result"
    }
   ],
   "source": [
    "df.columns"
   ]
  },
  {
   "cell_type": "code",
   "execution_count": 79,
   "metadata": {},
   "outputs": [
    {
     "data": {
      "image/png": "[encoded data removed]",
      "text/plain": [
       "<Figure size 432x288 with 1 Axes>"
      ]
     },
     "metadata": {
      "needs_background": "light"
     },
     "output_type": "display_data"
    }
   ],
   "source": [
    "sns.countplot(x='telecommuting', data=df)\n",
    "plt.show()"
   ]
  },
  {
   "cell_type": "code",
   "execution_count": 80,
   "metadata": {},
   "outputs": [
    {
     "data": {
      "image/png": "[encoded data removed]",
      "text/plain": [
       "<Figure size 432x288 with 1 Axes>"
      ]
     },
     "metadata": {
      "needs_background": "light"
     },
     "output_type": "display_data"
    }
   ],
   "source": [
    "sns.countplot(x='fraudulent', data=df)\n",
    "plt.show()"
   ]
  },
  {
   "cell_type": "code",
   "execution_count": 81,
   "metadata": {},
   "outputs": [
    {
     "name": "stdout",
     "output_type": "stream",
     "text": [
      "<class 'pandas.core.frame.DataFrame'>\n",
      "RangeIndex: 8940 entries, 0 to 8939\n",
      "Data columns (total 8 columns):\n",
      " #   Column            Non-Null Count  Dtype \n",
      "---  ------            --------------  ----- \n",
      " 0   title             8940 non-null   object\n",
      " 1   location          8783 non-null   object\n",
      " 2   description       8939 non-null   object\n",
      " 3   requirements      7614 non-null   object\n",
      " 4   telecommuting     8940 non-null   int64 \n",
      " 5   has_company_logo  8940 non-null   int64 \n",
      " 6   has_questions     8940 non-null   int64 \n",
      " 7   fraudulent        8940 non-null   int64 \n",
      "dtypes: int64(4), object(4)\n",
      "memory usage: 558.9+ KB\n"
     ]
    }
   ],
   "source": [
    "df.info()"
   ]
  },
  {
   "cell_type": "code",
   "execution_count": 82,
   "metadata": {},
   "outputs": [
    {
     "data": {
      "text/plain": [
       "title                  0\n",
       "location             157\n",
       "description            1\n",
       "requirements        1326\n",
       "telecommuting          0\n",
       "has_company_logo       0\n",
       "has_questions          0\n",
       "fraudulent             0\n",
       "dtype: int64"
      ]
     },
     "execution_count": 82,
     "metadata": {},
     "output_type": "execute_result"
    }
   ],
   "source": [
    "df.isnull().sum()"
   ]
  },
  {
   "cell_type": "code",
   "execution_count": 83,
   "metadata": {},
   "outputs": [
    {
     "data": {
      "text/plain": [
       "0    8484\n",
       "1     456\n",
       "Name: fraudulent, dtype: int64"
      ]
     },
     "execution_count": 83,
     "metadata": {},
     "output_type": "execute_result"
    }
   ],
   "source": [
    "df['fraudulent'].value_counts()"
   ]
  },
  {
   "cell_type": "code",
   "execution_count": 84,
   "metadata": {},
   "outputs": [],
   "source": [
    "frad = df[df['fraudulent']==1]"
   ]
  },
  {
   "cell_type": "code",
   "execution_count": 85,
   "metadata": {},
   "outputs": [
    {
     "data": {
      "text/plain": [
       "title                0\n",
       "location             8\n",
       "description          1\n",
       "requirements        76\n",
       "telecommuting        0\n",
       "has_company_logo     0\n",
       "has_questions        0\n",
       "fraudulent           0\n",
       "dtype: int64"
      ]
     },
     "execution_count": 85,
     "metadata": {},
     "output_type": "execute_result"
    }
   ],
   "source": [
    "frad.isnull().sum()"
   ]
  },
  {
   "cell_type": "markdown",
   "metadata": {},
   "source": [
    "<center><h1>Data Wrangling</h1></center>"
   ]
  },
  {
   "cell_type": "markdown",
   "metadata": {},
   "source": [
    "<h2> Dealing with Missing Values. </h2>"
   ]
  },
  {
   "cell_type": "code",
   "execution_count": 86,
   "metadata": {},
   "outputs": [],
   "source": [
    "df.dropna(subset=['description'], axis=0, inplace=True)"
   ]
  },
  {
   "cell_type": "code",
   "execution_count": 87,
   "metadata": {},
   "outputs": [
    {
     "data": {
      "text/plain": [
       "title                  0\n",
       "location             157\n",
       "description            0\n",
       "requirements        1325\n",
       "telecommuting          0\n",
       "has_company_logo       0\n",
       "has_questions          0\n",
       "fraudulent             0\n",
       "dtype: int64"
      ]
     },
     "execution_count": 87,
     "metadata": {},
     "output_type": "execute_result"
    }
   ],
   "source": [
    "df.isnull().sum()"
   ]
  },
  {
   "cell_type": "code",
   "execution_count": 88,
   "metadata": {},
   "outputs": [],
   "source": [
    "df['location'] = df.location.fillna('not specified')"
   ]
  },
  {
   "cell_type": "code",
   "execution_count": 89,
   "metadata": {},
   "outputs": [
    {
     "data": {
      "text/html": [
       "<div>\n",
       "<style scoped>\n",
       "    .dataframe tbody tr th:only-of-type {\n",
       "        vertical-align: middle;\n",
       "    }\n",
       "\n",
       "    .dataframe tbody tr th {\n",
       "        vertical-align: top;\n",
       "    }\n",
       "\n",
       "    .dataframe thead th {\n",
       "        text-align: right;\n",
       "    }\n",
       "</style>\n",
       "<table border=\"1\" class=\"dataframe\">\n",
       "  <thead>\n",
       "    <tr style=\"text-align: right;\">\n",
       "      <th></th>\n",
       "      <th>title</th>\n",
       "      <th>location</th>\n",
       "      <th>description</th>\n",
       "      <th>requirements</th>\n",
       "      <th>telecommuting</th>\n",
       "      <th>has_company_logo</th>\n",
       "      <th>has_questions</th>\n",
       "      <th>fraudulent</th>\n",
       "    </tr>\n",
       "  </thead>\n",
       "  <tbody>\n",
       "    <tr>\n",
       "      <th>0</th>\n",
       "      <td>Architect (Middleware - MQ) - Kuwait</td>\n",
       "      <td>KW, KU,</td>\n",
       "      <td>On behalf of our client, a well known multinat...</td>\n",
       "      <td>-Working technical knowledge of IT systems and...</td>\n",
       "      <td>0</td>\n",
       "      <td>1</td>\n",
       "      <td>0</td>\n",
       "      <td>0</td>\n",
       "    </tr>\n",
       "    <tr>\n",
       "      <th>1</th>\n",
       "      <td>Interviewing Now for Sales Rep Positions -- wi...</td>\n",
       "      <td>US, TX, Corpus Christi</td>\n",
       "      <td>We are Argenta Field Solutions, a rapidly expa...</td>\n",
       "      <td>#NAME?</td>\n",
       "      <td>0</td>\n",
       "      <td>1</td>\n",
       "      <td>0</td>\n",
       "      <td>0</td>\n",
       "    </tr>\n",
       "    <tr>\n",
       "      <th>2</th>\n",
       "      <td>Process Controls Staff Engineer - Foxboro I/A ...</td>\n",
       "      <td>US, TX, USA Southwest</td>\n",
       "      <td>Experienced Process Controls Staff Engineer is...</td>\n",
       "      <td>At least 10 years of degreed professional expe...</td>\n",
       "      <td>0</td>\n",
       "      <td>0</td>\n",
       "      <td>0</td>\n",
       "      <td>0</td>\n",
       "    </tr>\n",
       "    <tr>\n",
       "      <th>3</th>\n",
       "      <td>Experienced Telemarketer Wanted - Digital Solu...</td>\n",
       "      <td>AU, NSW,</td>\n",
       "      <td>If you have a passion for people and love to s...</td>\n",
       "      <td>Responsibilities - Prospecting, following up a...</td>\n",
       "      <td>0</td>\n",
       "      <td>1</td>\n",
       "      <td>0</td>\n",
       "      <td>0</td>\n",
       "    </tr>\n",
       "    <tr>\n",
       "      <th>4</th>\n",
       "      <td>Senior Network Engineer</td>\n",
       "      <td>GB, ENG, London</td>\n",
       "      <td>As the successful Senior Network Engineer you ...</td>\n",
       "      <td>Essential skills:•Juniper switching/routing/se...</td>\n",
       "      <td>0</td>\n",
       "      <td>1</td>\n",
       "      <td>0</td>\n",
       "      <td>0</td>\n",
       "    </tr>\n",
       "  </tbody>\n",
       "</table>\n",
       "</div>"
      ],
      "text/plain": [
       "                                               title                location  \\\n",
       "0               Architect (Middleware - MQ) - Kuwait                KW, KU,    \n",
       "1  Interviewing Now for Sales Rep Positions -- wi...  US, TX, Corpus Christi   \n",
       "2  Process Controls Staff Engineer - Foxboro I/A ...   US, TX, USA Southwest   \n",
       "3  Experienced Telemarketer Wanted - Digital Solu...               AU, NSW,    \n",
       "4                            Senior Network Engineer         GB, ENG, London   \n",
       "\n",
       "                                         description  \\\n",
       "0  On behalf of our client, a well known multinat...   \n",
       "1  We are Argenta Field Solutions, a rapidly expa...   \n",
       "2  Experienced Process Controls Staff Engineer is...   \n",
       "3  If you have a passion for people and love to s...   \n",
       "4  As the successful Senior Network Engineer you ...   \n",
       "\n",
       "                                        requirements  telecommuting  \\\n",
       "0  -Working technical knowledge of IT systems and...              0   \n",
       "1                                             #NAME?              0   \n",
       "2  At least 10 years of degreed professional expe...              0   \n",
       "3  Responsibilities - Prospecting, following up a...              0   \n",
       "4  Essential skills:•Juniper switching/routing/se...              0   \n",
       "\n",
       "   has_company_logo  has_questions  fraudulent  \n",
       "0                 1              0           0  \n",
       "1                 1              0           0  \n",
       "2                 0              0           0  \n",
       "3                 1              0           0  \n",
       "4                 1              0           0  "
      ]
     },
     "execution_count": 89,
     "metadata": {},
     "output_type": "execute_result"
    }
   ],
   "source": [
    "df.head(5)"
   ]
  },
  {
   "cell_type": "code",
   "execution_count": 90,
   "metadata": {},
   "outputs": [
    {
     "data": {
      "text/html": [
       "<div>\n",
       "<style scoped>\n",
       "    .dataframe tbody tr th:only-of-type {\n",
       "        vertical-align: middle;\n",
       "    }\n",
       "\n",
       "    .dataframe tbody tr th {\n",
       "        vertical-align: top;\n",
       "    }\n",
       "\n",
       "    .dataframe thead th {\n",
       "        text-align: right;\n",
       "    }\n",
       "</style>\n",
       "<table border=\"1\" class=\"dataframe\">\n",
       "  <thead>\n",
       "    <tr style=\"text-align: right;\">\n",
       "      <th></th>\n",
       "      <th>title</th>\n",
       "      <th>location</th>\n",
       "      <th>description</th>\n",
       "      <th>requirements</th>\n",
       "      <th>telecommuting</th>\n",
       "      <th>has_company_logo</th>\n",
       "      <th>has_questions</th>\n",
       "      <th>fraudulent</th>\n",
       "    </tr>\n",
       "  </thead>\n",
       "  <tbody>\n",
       "    <tr>\n",
       "      <th>10</th>\n",
       "      <td>RoR Specialist</td>\n",
       "      <td>US, CA, Long Beach</td>\n",
       "      <td>Ruby on Rails Web Engineer (RoR)Now Hiring Rub...</td>\n",
       "      <td>NaN</td>\n",
       "      <td>0</td>\n",
       "      <td>0</td>\n",
       "      <td>0</td>\n",
       "      <td>0</td>\n",
       "    </tr>\n",
       "    <tr>\n",
       "      <th>17</th>\n",
       "      <td>Technical Support Specialist</td>\n",
       "      <td>US, FL, Fort Lauderdale</td>\n",
       "      <td>This newly created role will be filled by a hi...</td>\n",
       "      <td>NaN</td>\n",
       "      <td>0</td>\n",
       "      <td>0</td>\n",
       "      <td>0</td>\n",
       "      <td>0</td>\n",
       "    </tr>\n",
       "    <tr>\n",
       "      <th>19</th>\n",
       "      <td>Work for Point Nine (VC)</td>\n",
       "      <td>not specified</td>\n",
       "      <td>Sounds like what you want to do? Then apply to...</td>\n",
       "      <td>NaN</td>\n",
       "      <td>0</td>\n",
       "      <td>1</td>\n",
       "      <td>0</td>\n",
       "      <td>0</td>\n",
       "    </tr>\n",
       "    <tr>\n",
       "      <th>26</th>\n",
       "      <td>Delivery Drivers</td>\n",
       "      <td>US, TX, Austin</td>\n",
       "      <td>Eat Out In is a well established, fast paced, ...</td>\n",
       "      <td>NaN</td>\n",
       "      <td>0</td>\n",
       "      <td>0</td>\n",
       "      <td>0</td>\n",
       "      <td>0</td>\n",
       "    </tr>\n",
       "    <tr>\n",
       "      <th>30</th>\n",
       "      <td>Web Designer</td>\n",
       "      <td>US, FL, Boca Raton</td>\n",
       "      <td>Title: Sr. Web DesignerLocation: Boca Raton, F...</td>\n",
       "      <td>NaN</td>\n",
       "      <td>0</td>\n",
       "      <td>1</td>\n",
       "      <td>1</td>\n",
       "      <td>0</td>\n",
       "    </tr>\n",
       "    <tr>\n",
       "      <th>...</th>\n",
       "      <td>...</td>\n",
       "      <td>...</td>\n",
       "      <td>...</td>\n",
       "      <td>...</td>\n",
       "      <td>...</td>\n",
       "      <td>...</td>\n",
       "      <td>...</td>\n",
       "      <td>...</td>\n",
       "    </tr>\n",
       "    <tr>\n",
       "      <th>8915</th>\n",
       "      <td>The Symicor Group is Looking for Seasoned Bank...</td>\n",
       "      <td>US, TX, Dallas</td>\n",
       "      <td>Senior Bank RecruiterWho We Are“Bankers Recrui...</td>\n",
       "      <td>NaN</td>\n",
       "      <td>0</td>\n",
       "      <td>1</td>\n",
       "      <td>0</td>\n",
       "      <td>0</td>\n",
       "    </tr>\n",
       "    <tr>\n",
       "      <th>8919</th>\n",
       "      <td>Controls Engineer</td>\n",
       "      <td>US, PA, Philadelphia</td>\n",
       "      <td>(We have more than 1500+ Job openings in our w...</td>\n",
       "      <td>NaN</td>\n",
       "      <td>0</td>\n",
       "      <td>0</td>\n",
       "      <td>0</td>\n",
       "      <td>0</td>\n",
       "    </tr>\n",
       "    <tr>\n",
       "      <th>8925</th>\n",
       "      <td>Home Health Aid, Kennewick, WA</td>\n",
       "      <td>US, WA, Kennewick</td>\n",
       "      <td>HHACritical Nurse Staffing, Inc. is seeking an...</td>\n",
       "      <td>NaN</td>\n",
       "      <td>0</td>\n",
       "      <td>1</td>\n",
       "      <td>0</td>\n",
       "      <td>0</td>\n",
       "    </tr>\n",
       "    <tr>\n",
       "      <th>8928</th>\n",
       "      <td>Retail Buyer</td>\n",
       "      <td>CY, 01, Nicosia</td>\n",
       "      <td>We are seeking for young developable executive...</td>\n",
       "      <td>NaN</td>\n",
       "      <td>0</td>\n",
       "      <td>0</td>\n",
       "      <td>1</td>\n",
       "      <td>0</td>\n",
       "    </tr>\n",
       "    <tr>\n",
       "      <th>8938</th>\n",
       "      <td>Administrative Assistant</td>\n",
       "      <td>US, CA, Santa Ana</td>\n",
       "      <td>In addition to clerical and administrative du...</td>\n",
       "      <td>NaN</td>\n",
       "      <td>0</td>\n",
       "      <td>0</td>\n",
       "      <td>0</td>\n",
       "      <td>1</td>\n",
       "    </tr>\n",
       "  </tbody>\n",
       "</table>\n",
       "<p>1325 rows × 8 columns</p>\n",
       "</div>"
      ],
      "text/plain": [
       "                                                  title  \\\n",
       "10                                       RoR Specialist   \n",
       "17                         Technical Support Specialist   \n",
       "19                             Work for Point Nine (VC)   \n",
       "26                                     Delivery Drivers   \n",
       "30                                         Web Designer   \n",
       "...                                                 ...   \n",
       "8915  The Symicor Group is Looking for Seasoned Bank...   \n",
       "8919                                  Controls Engineer   \n",
       "8925                     Home Health Aid, Kennewick, WA   \n",
       "8928                                       Retail Buyer   \n",
       "8938                           Administrative Assistant   \n",
       "\n",
       "                     location  \\\n",
       "10         US, CA, Long Beach   \n",
       "17    US, FL, Fort Lauderdale   \n",
       "19              not specified   \n",
       "26             US, TX, Austin   \n",
       "30         US, FL, Boca Raton   \n",
       "...                       ...   \n",
       "8915           US, TX, Dallas   \n",
       "8919    US, PA, Philadelphia    \n",
       "8925        US, WA, Kennewick   \n",
       "8928          CY, 01, Nicosia   \n",
       "8938        US, CA, Santa Ana   \n",
       "\n",
       "                                            description requirements  \\\n",
       "10    Ruby on Rails Web Engineer (RoR)Now Hiring Rub...          NaN   \n",
       "17    This newly created role will be filled by a hi...          NaN   \n",
       "19    Sounds like what you want to do? Then apply to...          NaN   \n",
       "26    Eat Out In is a well established, fast paced, ...          NaN   \n",
       "30    Title: Sr. Web DesignerLocation: Boca Raton, F...          NaN   \n",
       "...                                                 ...          ...   \n",
       "8915  Senior Bank RecruiterWho We Are“Bankers Recrui...          NaN   \n",
       "8919  (We have more than 1500+ Job openings in our w...          NaN   \n",
       "8925  HHACritical Nurse Staffing, Inc. is seeking an...          NaN   \n",
       "8928  We are seeking for young developable executive...          NaN   \n",
       "8938   In addition to clerical and administrative du...          NaN   \n",
       "\n",
       "      telecommuting  has_company_logo  has_questions  fraudulent  \n",
       "10                0                 0              0           0  \n",
       "17                0                 0              0           0  \n",
       "19                0                 1              0           0  \n",
       "26                0                 0              0           0  \n",
       "30                0                 1              1           0  \n",
       "...             ...               ...            ...         ...  \n",
       "8915              0                 1              0           0  \n",
       "8919              0                 0              0           0  \n",
       "8925              0                 1              0           0  \n",
       "8928              0                 0              1           0  \n",
       "8938              0                 0              0           1  \n",
       "\n",
       "[1325 rows x 8 columns]"
      ]
     },
     "execution_count": 90,
     "metadata": {},
     "output_type": "execute_result"
    }
   ],
   "source": [
    "df[df['requirements'].isnull()]"
   ]
  },
  {
   "cell_type": "code",
   "execution_count": 91,
   "metadata": {},
   "outputs": [
    {
     "data": {
      "text/html": [
       "<div>\n",
       "<style scoped>\n",
       "    .dataframe tbody tr th:only-of-type {\n",
       "        vertical-align: middle;\n",
       "    }\n",
       "\n",
       "    .dataframe tbody tr th {\n",
       "        vertical-align: top;\n",
       "    }\n",
       "\n",
       "    .dataframe thead th {\n",
       "        text-align: right;\n",
       "    }\n",
       "</style>\n",
       "<table border=\"1\" class=\"dataframe\">\n",
       "  <thead>\n",
       "    <tr style=\"text-align: right;\">\n",
       "      <th></th>\n",
       "      <th>telecommuting</th>\n",
       "      <th>has_company_logo</th>\n",
       "      <th>has_questions</th>\n",
       "      <th>fraudulent</th>\n",
       "    </tr>\n",
       "  </thead>\n",
       "  <tbody>\n",
       "    <tr>\n",
       "      <th>telecommuting</th>\n",
       "      <td>1.000000</td>\n",
       "      <td>-0.033366</td>\n",
       "      <td>0.000508</td>\n",
       "      <td>0.045039</td>\n",
       "    </tr>\n",
       "    <tr>\n",
       "      <th>has_company_logo</th>\n",
       "      <td>-0.033366</td>\n",
       "      <td>1.000000</td>\n",
       "      <td>0.232732</td>\n",
       "      <td>-0.256326</td>\n",
       "    </tr>\n",
       "    <tr>\n",
       "      <th>has_questions</th>\n",
       "      <td>0.000508</td>\n",
       "      <td>0.232732</td>\n",
       "      <td>1.000000</td>\n",
       "      <td>-0.098490</td>\n",
       "    </tr>\n",
       "    <tr>\n",
       "      <th>fraudulent</th>\n",
       "      <td>0.045039</td>\n",
       "      <td>-0.256326</td>\n",
       "      <td>-0.098490</td>\n",
       "      <td>1.000000</td>\n",
       "    </tr>\n",
       "  </tbody>\n",
       "</table>\n",
       "</div>"
      ],
      "text/plain": [
       "                  telecommuting  has_company_logo  has_questions  fraudulent\n",
       "telecommuting          1.000000         -0.033366       0.000508    0.045039\n",
       "has_company_logo      -0.033366          1.000000       0.232732   -0.256326\n",
       "has_questions          0.000508          0.232732       1.000000   -0.098490\n",
       "fraudulent             0.045039         -0.256326      -0.098490    1.000000"
      ]
     },
     "execution_count": 91,
     "metadata": {},
     "output_type": "execute_result"
    }
   ],
   "source": [
    "df.corr()"
   ]
  },
  {
   "cell_type": "code",
   "execution_count": 92,
   "metadata": {},
   "outputs": [
    {
     "data": {
      "text/html": [
       "<div>\n",
       "<style scoped>\n",
       "    .dataframe tbody tr th:only-of-type {\n",
       "        vertical-align: middle;\n",
       "    }\n",
       "\n",
       "    .dataframe tbody tr th {\n",
       "        vertical-align: top;\n",
       "    }\n",
       "\n",
       "    .dataframe thead th {\n",
       "        text-align: right;\n",
       "    }\n",
       "</style>\n",
       "<table border=\"1\" class=\"dataframe\">\n",
       "  <thead>\n",
       "    <tr style=\"text-align: right;\">\n",
       "      <th></th>\n",
       "      <th>title</th>\n",
       "      <th>location</th>\n",
       "      <th>description</th>\n",
       "      <th>requirements</th>\n",
       "      <th>telecommuting</th>\n",
       "      <th>has_company_logo</th>\n",
       "      <th>has_questions</th>\n",
       "      <th>fraudulent</th>\n",
       "    </tr>\n",
       "  </thead>\n",
       "  <tbody>\n",
       "    <tr>\n",
       "      <th>count</th>\n",
       "      <td>8939</td>\n",
       "      <td>8939</td>\n",
       "      <td>8939</td>\n",
       "      <td>7614</td>\n",
       "      <td>8939.000000</td>\n",
       "      <td>8939.000000</td>\n",
       "      <td>8939.000000</td>\n",
       "      <td>8939.000000</td>\n",
       "    </tr>\n",
       "    <tr>\n",
       "      <th>unique</th>\n",
       "      <td>6132</td>\n",
       "      <td>2132</td>\n",
       "      <td>7767</td>\n",
       "      <td>6327</td>\n",
       "      <td>NaN</td>\n",
       "      <td>NaN</td>\n",
       "      <td>NaN</td>\n",
       "      <td>NaN</td>\n",
       "    </tr>\n",
       "    <tr>\n",
       "      <th>top</th>\n",
       "      <td>English Teacher Abroad</td>\n",
       "      <td>GB, LND, London</td>\n",
       "      <td>Play with kids, get paid for it Love travel? J...</td>\n",
       "      <td>University degree required. TEFL / TESOL / CEL...</td>\n",
       "      <td>NaN</td>\n",
       "      <td>NaN</td>\n",
       "      <td>NaN</td>\n",
       "      <td>NaN</td>\n",
       "    </tr>\n",
       "    <tr>\n",
       "      <th>freq</th>\n",
       "      <td>152</td>\n",
       "      <td>367</td>\n",
       "      <td>187</td>\n",
       "      <td>200</td>\n",
       "      <td>NaN</td>\n",
       "      <td>NaN</td>\n",
       "      <td>NaN</td>\n",
       "      <td>NaN</td>\n",
       "    </tr>\n",
       "    <tr>\n",
       "      <th>mean</th>\n",
       "      <td>NaN</td>\n",
       "      <td>NaN</td>\n",
       "      <td>NaN</td>\n",
       "      <td>NaN</td>\n",
       "      <td>0.043741</td>\n",
       "      <td>0.794496</td>\n",
       "      <td>0.487303</td>\n",
       "      <td>0.050901</td>\n",
       "    </tr>\n",
       "    <tr>\n",
       "      <th>std</th>\n",
       "      <td>NaN</td>\n",
       "      <td>NaN</td>\n",
       "      <td>NaN</td>\n",
       "      <td>NaN</td>\n",
       "      <td>0.204530</td>\n",
       "      <td>0.404092</td>\n",
       "      <td>0.499867</td>\n",
       "      <td>0.219807</td>\n",
       "    </tr>\n",
       "    <tr>\n",
       "      <th>min</th>\n",
       "      <td>NaN</td>\n",
       "      <td>NaN</td>\n",
       "      <td>NaN</td>\n",
       "      <td>NaN</td>\n",
       "      <td>0.000000</td>\n",
       "      <td>0.000000</td>\n",
       "      <td>0.000000</td>\n",
       "      <td>0.000000</td>\n",
       "    </tr>\n",
       "    <tr>\n",
       "      <th>25%</th>\n",
       "      <td>NaN</td>\n",
       "      <td>NaN</td>\n",
       "      <td>NaN</td>\n",
       "      <td>NaN</td>\n",
       "      <td>0.000000</td>\n",
       "      <td>1.000000</td>\n",
       "      <td>0.000000</td>\n",
       "      <td>0.000000</td>\n",
       "    </tr>\n",
       "    <tr>\n",
       "      <th>50%</th>\n",
       "      <td>NaN</td>\n",
       "      <td>NaN</td>\n",
       "      <td>NaN</td>\n",
       "      <td>NaN</td>\n",
       "      <td>0.000000</td>\n",
       "      <td>1.000000</td>\n",
       "      <td>0.000000</td>\n",
       "      <td>0.000000</td>\n",
       "    </tr>\n",
       "    <tr>\n",
       "      <th>75%</th>\n",
       "      <td>NaN</td>\n",
       "      <td>NaN</td>\n",
       "      <td>NaN</td>\n",
       "      <td>NaN</td>\n",
       "      <td>0.000000</td>\n",
       "      <td>1.000000</td>\n",
       "      <td>1.000000</td>\n",
       "      <td>0.000000</td>\n",
       "    </tr>\n",
       "    <tr>\n",
       "      <th>max</th>\n",
       "      <td>NaN</td>\n",
       "      <td>NaN</td>\n",
       "      <td>NaN</td>\n",
       "      <td>NaN</td>\n",
       "      <td>1.000000</td>\n",
       "      <td>1.000000</td>\n",
       "      <td>1.000000</td>\n",
       "      <td>1.000000</td>\n",
       "    </tr>\n",
       "  </tbody>\n",
       "</table>\n",
       "</div>"
      ],
      "text/plain": [
       "                          title         location  \\\n",
       "count                      8939             8939   \n",
       "unique                     6132             2132   \n",
       "top     English Teacher Abroad   GB, LND, London   \n",
       "freq                        152              367   \n",
       "mean                        NaN              NaN   \n",
       "std                         NaN              NaN   \n",
       "min                         NaN              NaN   \n",
       "25%                         NaN              NaN   \n",
       "50%                         NaN              NaN   \n",
       "75%                         NaN              NaN   \n",
       "max                         NaN              NaN   \n",
       "\n",
       "                                              description  \\\n",
       "count                                                8939   \n",
       "unique                                               7767   \n",
       "top     Play with kids, get paid for it Love travel? J...   \n",
       "freq                                                  187   \n",
       "mean                                                  NaN   \n",
       "std                                                   NaN   \n",
       "min                                                   NaN   \n",
       "25%                                                   NaN   \n",
       "50%                                                   NaN   \n",
       "75%                                                   NaN   \n",
       "max                                                   NaN   \n",
       "\n",
       "                                             requirements  telecommuting  \\\n",
       "count                                                7614    8939.000000   \n",
       "unique                                               6327            NaN   \n",
       "top     University degree required. TEFL / TESOL / CEL...            NaN   \n",
       "freq                                                  200            NaN   \n",
       "mean                                                  NaN       0.043741   \n",
       "std                                                   NaN       0.204530   \n",
       "min                                                   NaN       0.000000   \n",
       "25%                                                   NaN       0.000000   \n",
       "50%                                                   NaN       0.000000   \n",
       "75%                                                   NaN       0.000000   \n",
       "max                                                   NaN       1.000000   \n",
       "\n",
       "        has_company_logo  has_questions   fraudulent  \n",
       "count        8939.000000    8939.000000  8939.000000  \n",
       "unique               NaN            NaN          NaN  \n",
       "top                  NaN            NaN          NaN  \n",
       "freq                 NaN            NaN          NaN  \n",
       "mean            0.794496       0.487303     0.050901  \n",
       "std             0.404092       0.499867     0.219807  \n",
       "min             0.000000       0.000000     0.000000  \n",
       "25%             1.000000       0.000000     0.000000  \n",
       "50%             1.000000       0.000000     0.000000  \n",
       "75%             1.000000       1.000000     0.000000  \n",
       "max             1.000000       1.000000     1.000000  "
      ]
     },
     "execution_count": 92,
     "metadata": {},
     "output_type": "execute_result"
    }
   ],
   "source": [
    "df.describe(include='all')"
   ]
  },
  {
   "cell_type": "code",
   "execution_count": 93,
   "metadata": {},
   "outputs": [],
   "source": [
    "df['requirements'] = df.requirements.fillna('not specified')"
   ]
  },
  {
   "cell_type": "code",
   "execution_count": 94,
   "metadata": {},
   "outputs": [
    {
     "data": {
      "text/html": [
       "<div>\n",
       "<style scoped>\n",
       "    .dataframe tbody tr th:only-of-type {\n",
       "        vertical-align: middle;\n",
       "    }\n",
       "\n",
       "    .dataframe tbody tr th {\n",
       "        vertical-align: top;\n",
       "    }\n",
       "\n",
       "    .dataframe thead th {\n",
       "        text-align: right;\n",
       "    }\n",
       "</style>\n",
       "<table border=\"1\" class=\"dataframe\">\n",
       "  <thead>\n",
       "    <tr style=\"text-align: right;\">\n",
       "      <th></th>\n",
       "      <th>title</th>\n",
       "      <th>location</th>\n",
       "      <th>description</th>\n",
       "      <th>requirements</th>\n",
       "      <th>telecommuting</th>\n",
       "      <th>has_company_logo</th>\n",
       "      <th>has_questions</th>\n",
       "      <th>fraudulent</th>\n",
       "    </tr>\n",
       "  </thead>\n",
       "  <tbody>\n",
       "    <tr>\n",
       "      <th>0</th>\n",
       "      <td>Architect (Middleware - MQ) - Kuwait</td>\n",
       "      <td>KW, KU,</td>\n",
       "      <td>On behalf of our client, a well known multinat...</td>\n",
       "      <td>-Working technical knowledge of IT systems and...</td>\n",
       "      <td>0</td>\n",
       "      <td>1</td>\n",
       "      <td>0</td>\n",
       "      <td>0</td>\n",
       "    </tr>\n",
       "    <tr>\n",
       "      <th>1</th>\n",
       "      <td>Interviewing Now for Sales Rep Positions -- wi...</td>\n",
       "      <td>US, TX, Corpus Christi</td>\n",
       "      <td>We are Argenta Field Solutions, a rapidly expa...</td>\n",
       "      <td>#NAME?</td>\n",
       "      <td>0</td>\n",
       "      <td>1</td>\n",
       "      <td>0</td>\n",
       "      <td>0</td>\n",
       "    </tr>\n",
       "    <tr>\n",
       "      <th>2</th>\n",
       "      <td>Process Controls Staff Engineer - Foxboro I/A ...</td>\n",
       "      <td>US, TX, USA Southwest</td>\n",
       "      <td>Experienced Process Controls Staff Engineer is...</td>\n",
       "      <td>At least 10 years of degreed professional expe...</td>\n",
       "      <td>0</td>\n",
       "      <td>0</td>\n",
       "      <td>0</td>\n",
       "      <td>0</td>\n",
       "    </tr>\n",
       "    <tr>\n",
       "      <th>3</th>\n",
       "      <td>Experienced Telemarketer Wanted - Digital Solu...</td>\n",
       "      <td>AU, NSW,</td>\n",
       "      <td>If you have a passion for people and love to s...</td>\n",
       "      <td>Responsibilities - Prospecting, following up a...</td>\n",
       "      <td>0</td>\n",
       "      <td>1</td>\n",
       "      <td>0</td>\n",
       "      <td>0</td>\n",
       "    </tr>\n",
       "    <tr>\n",
       "      <th>4</th>\n",
       "      <td>Senior Network Engineer</td>\n",
       "      <td>GB, ENG, London</td>\n",
       "      <td>As the successful Senior Network Engineer you ...</td>\n",
       "      <td>Essential skills:•Juniper switching/routing/se...</td>\n",
       "      <td>0</td>\n",
       "      <td>1</td>\n",
       "      <td>0</td>\n",
       "      <td>0</td>\n",
       "    </tr>\n",
       "  </tbody>\n",
       "</table>\n",
       "</div>"
      ],
      "text/plain": [
       "                                               title                location  \\\n",
       "0               Architect (Middleware - MQ) - Kuwait                KW, KU,    \n",
       "1  Interviewing Now for Sales Rep Positions -- wi...  US, TX, Corpus Christi   \n",
       "2  Process Controls Staff Engineer - Foxboro I/A ...   US, TX, USA Southwest   \n",
       "3  Experienced Telemarketer Wanted - Digital Solu...               AU, NSW,    \n",
       "4                            Senior Network Engineer         GB, ENG, London   \n",
       "\n",
       "                                         description  \\\n",
       "0  On behalf of our client, a well known multinat...   \n",
       "1  We are Argenta Field Solutions, a rapidly expa...   \n",
       "2  Experienced Process Controls Staff Engineer is...   \n",
       "3  If you have a passion for people and love to s...   \n",
       "4  As the successful Senior Network Engineer you ...   \n",
       "\n",
       "                                        requirements  telecommuting  \\\n",
       "0  -Working technical knowledge of IT systems and...              0   \n",
       "1                                             #NAME?              0   \n",
       "2  At least 10 years of degreed professional expe...              0   \n",
       "3  Responsibilities - Prospecting, following up a...              0   \n",
       "4  Essential skills:•Juniper switching/routing/se...              0   \n",
       "\n",
       "   has_company_logo  has_questions  fraudulent  \n",
       "0                 1              0           0  \n",
       "1                 1              0           0  \n",
       "2                 0              0           0  \n",
       "3                 1              0           0  \n",
       "4                 1              0           0  "
      ]
     },
     "execution_count": 94,
     "metadata": {},
     "output_type": "execute_result"
    }
   ],
   "source": [
    "df.head(5)"
   ]
  },
  {
   "cell_type": "code",
   "execution_count": 95,
   "metadata": {},
   "outputs": [
    {
     "data": {
      "text/plain": [
       "title               0\n",
       "location            0\n",
       "description         0\n",
       "requirements        0\n",
       "telecommuting       0\n",
       "has_company_logo    0\n",
       "has_questions       0\n",
       "fraudulent          0\n",
       "dtype: int64"
      ]
     },
     "execution_count": 95,
     "metadata": {},
     "output_type": "execute_result"
    }
   ],
   "source": [
    "df.isnull().sum()"
   ]
  },
  {
   "cell_type": "markdown",
   "metadata": {},
   "source": [
    "<center><h1> Remove Punctuation And Stop Words From the data. </h1></center>"
   ]
  },
  {
   "cell_type": "markdown",
   "metadata": {},
   "source": [
    "<h3> Now we have done with dealing the missing Values. Now we are going to further pre-process the data.</h3>"
   ]
  },
  {
   "cell_type": "code",
   "execution_count": 96,
   "metadata": {},
   "outputs": [
    {
     "data": {
      "text/plain": [
       "Index(['title', 'location', 'description', 'requirements', 'telecommuting',\n",
       "       'has_company_logo', 'has_questions', 'fraudulent'],\n",
       "      dtype='object')"
      ]
     },
     "execution_count": 96,
     "metadata": {},
     "output_type": "execute_result"
    }
   ],
   "source": [
    "df.columns"
   ]
  },
  {
   "cell_type": "code",
   "execution_count": 97,
   "metadata": {},
   "outputs": [],
   "source": [
    "columns = ['title', 'location', 'description', 'requirements']"
   ]
  },
  {
   "cell_type": "code",
   "execution_count": 98,
   "metadata": {},
   "outputs": [],
   "source": [
    "for column in columns:\n",
    "    df[column] = df[column].str.replace(r'\\W',' ').str.replace(r'\\s$','')"
   ]
  },
  {
   "cell_type": "code",
   "execution_count": 99,
   "metadata": {},
   "outputs": [
    {
     "data": {
      "text/html": [
       "<div>\n",
       "<style scoped>\n",
       "    .dataframe tbody tr th:only-of-type {\n",
       "        vertical-align: middle;\n",
       "    }\n",
       "\n",
       "    .dataframe tbody tr th {\n",
       "        vertical-align: top;\n",
       "    }\n",
       "\n",
       "    .dataframe thead th {\n",
       "        text-align: right;\n",
       "    }\n",
       "</style>\n",
       "<table border=\"1\" class=\"dataframe\">\n",
       "  <thead>\n",
       "    <tr style=\"text-align: right;\">\n",
       "      <th></th>\n",
       "      <th>title</th>\n",
       "      <th>location</th>\n",
       "      <th>description</th>\n",
       "      <th>requirements</th>\n",
       "      <th>telecommuting</th>\n",
       "      <th>has_company_logo</th>\n",
       "      <th>has_questions</th>\n",
       "      <th>fraudulent</th>\n",
       "    </tr>\n",
       "  </thead>\n",
       "  <tbody>\n",
       "    <tr>\n",
       "      <th>0</th>\n",
       "      <td>Architect  Middleware   MQ    Kuwait</td>\n",
       "      <td>KW  KU</td>\n",
       "      <td>On behalf of our client  a well known multinat...</td>\n",
       "      <td>Working technical knowledge of IT systems and...</td>\n",
       "      <td>0</td>\n",
       "      <td>1</td>\n",
       "      <td>0</td>\n",
       "      <td>0</td>\n",
       "    </tr>\n",
       "    <tr>\n",
       "      <th>1</th>\n",
       "      <td>Interviewing Now for Sales Rep Positions    wi...</td>\n",
       "      <td>US  TX  Corpus Christi</td>\n",
       "      <td>We are Argenta Field Solutions  a rapidly expa...</td>\n",
       "      <td>NAME</td>\n",
       "      <td>0</td>\n",
       "      <td>1</td>\n",
       "      <td>0</td>\n",
       "      <td>0</td>\n",
       "    </tr>\n",
       "    <tr>\n",
       "      <th>2</th>\n",
       "      <td>Process Controls Staff Engineer   Foxboro I A ...</td>\n",
       "      <td>US  TX  USA Southwest</td>\n",
       "      <td>Experienced Process Controls Staff Engineer is...</td>\n",
       "      <td>At least 10 years of degreed professional expe...</td>\n",
       "      <td>0</td>\n",
       "      <td>0</td>\n",
       "      <td>0</td>\n",
       "      <td>0</td>\n",
       "    </tr>\n",
       "    <tr>\n",
       "      <th>3</th>\n",
       "      <td>Experienced Telemarketer Wanted   Digital Solu...</td>\n",
       "      <td>AU  NSW</td>\n",
       "      <td>If you have a passion for people and love to s...</td>\n",
       "      <td>Responsibilities   Prospecting  following up a...</td>\n",
       "      <td>0</td>\n",
       "      <td>1</td>\n",
       "      <td>0</td>\n",
       "      <td>0</td>\n",
       "    </tr>\n",
       "    <tr>\n",
       "      <th>4</th>\n",
       "      <td>Senior Network Engineer</td>\n",
       "      <td>GB  ENG  London</td>\n",
       "      <td>As the successful Senior Network Engineer you ...</td>\n",
       "      <td>Essential skills  Juniper switching routing se...</td>\n",
       "      <td>0</td>\n",
       "      <td>1</td>\n",
       "      <td>0</td>\n",
       "      <td>0</td>\n",
       "    </tr>\n",
       "  </tbody>\n",
       "</table>\n",
       "</div>"
      ],
      "text/plain": [
       "                                               title                location  \\\n",
       "0               Architect  Middleware   MQ    Kuwait                 KW  KU    \n",
       "1  Interviewing Now for Sales Rep Positions    wi...  US  TX  Corpus Christi   \n",
       "2  Process Controls Staff Engineer   Foxboro I A ...   US  TX  USA Southwest   \n",
       "3  Experienced Telemarketer Wanted   Digital Solu...                AU  NSW    \n",
       "4                            Senior Network Engineer         GB  ENG  London   \n",
       "\n",
       "                                         description  \\\n",
       "0  On behalf of our client  a well known multinat...   \n",
       "1  We are Argenta Field Solutions  a rapidly expa...   \n",
       "2  Experienced Process Controls Staff Engineer is...   \n",
       "3  If you have a passion for people and love to s...   \n",
       "4  As the successful Senior Network Engineer you ...   \n",
       "\n",
       "                                        requirements  telecommuting  \\\n",
       "0   Working technical knowledge of IT systems and...              0   \n",
       "1                                               NAME              0   \n",
       "2  At least 10 years of degreed professional expe...              0   \n",
       "3  Responsibilities   Prospecting  following up a...              0   \n",
       "4  Essential skills  Juniper switching routing se...              0   \n",
       "\n",
       "   has_company_logo  has_questions  fraudulent  \n",
       "0                 1              0           0  \n",
       "1                 1              0           0  \n",
       "2                 0              0           0  \n",
       "3                 1              0           0  \n",
       "4                 1              0           0  "
      ]
     },
     "execution_count": 99,
     "metadata": {},
     "output_type": "execute_result"
    }
   ],
   "source": [
    "df.head()"
   ]
  },
  {
   "cell_type": "code",
   "execution_count": 100,
   "metadata": {},
   "outputs": [],
   "source": [
    "def clean_series(column_name):\n",
    "    df[column_name] = df[column_name].apply(lambda x: \" \".join([i for i in x.lower().split() if i not in STOPWORDS]))"
   ]
  },
  {
   "cell_type": "code",
   "execution_count": 101,
   "metadata": {},
   "outputs": [],
   "source": [
    "text_columns = ['title', 'location', 'description', 'requirements']\n",
    "for column in text_columns:\n",
    "    clean_series(column)"
   ]
  },
  {
   "cell_type": "code",
   "execution_count": 102,
   "metadata": {},
   "outputs": [
    {
     "data": {
      "text/html": [
       "<div>\n",
       "<style scoped>\n",
       "    .dataframe tbody tr th:only-of-type {\n",
       "        vertical-align: middle;\n",
       "    }\n",
       "\n",
       "    .dataframe tbody tr th {\n",
       "        vertical-align: top;\n",
       "    }\n",
       "\n",
       "    .dataframe thead th {\n",
       "        text-align: right;\n",
       "    }\n",
       "</style>\n",
       "<table border=\"1\" class=\"dataframe\">\n",
       "  <thead>\n",
       "    <tr style=\"text-align: right;\">\n",
       "      <th></th>\n",
       "      <th>title</th>\n",
       "      <th>location</th>\n",
       "      <th>description</th>\n",
       "      <th>requirements</th>\n",
       "      <th>telecommuting</th>\n",
       "      <th>has_company_logo</th>\n",
       "      <th>has_questions</th>\n",
       "      <th>fraudulent</th>\n",
       "    </tr>\n",
       "  </thead>\n",
       "  <tbody>\n",
       "    <tr>\n",
       "      <th>0</th>\n",
       "      <td>architect middleware mq kuwait</td>\n",
       "      <td>kw ku</td>\n",
       "      <td>behalf client known multinational retail compa...</td>\n",
       "      <td>working technical knowledge systems fundamenta...</td>\n",
       "      <td>0</td>\n",
       "      <td>1</td>\n",
       "      <td>0</td>\n",
       "      <td>0</td>\n",
       "    </tr>\n",
       "    <tr>\n",
       "      <th>1</th>\n",
       "      <td>interviewing sales rep positions management tr...</td>\n",
       "      <td>tx corpus christi</td>\n",
       "      <td>argenta field solutions rapidly expanding awar...</td>\n",
       "      <td></td>\n",
       "      <td>0</td>\n",
       "      <td>1</td>\n",
       "      <td>0</td>\n",
       "      <td>0</td>\n",
       "    </tr>\n",
       "    <tr>\n",
       "      <th>2</th>\n",
       "      <td>process controls staff engineer foxboro tricon...</td>\n",
       "      <td>tx usa southwest</td>\n",
       "      <td>experienced process controls staff engineer re...</td>\n",
       "      <td>10 years degreed professional experience minim...</td>\n",
       "      <td>0</td>\n",
       "      <td>0</td>\n",
       "      <td>0</td>\n",
       "      <td>0</td>\n",
       "    </tr>\n",
       "    <tr>\n",
       "      <th>3</th>\n",
       "      <td>experienced telemarketer wanted digital solutions</td>\n",
       "      <td>au nsw</td>\n",
       "      <td>passion people love sell telephone roles overv...</td>\n",
       "      <td>responsibilities prospecting following lead ge...</td>\n",
       "      <td>0</td>\n",
       "      <td>1</td>\n",
       "      <td>0</td>\n",
       "      <td>0</td>\n",
       "    </tr>\n",
       "    <tr>\n",
       "      <th>4</th>\n",
       "      <td>senior network engineer</td>\n",
       "      <td>gb eng london</td>\n",
       "      <td>successful senior network engineer jncia certi...</td>\n",
       "      <td>essential skills juniper switching routing sec...</td>\n",
       "      <td>0</td>\n",
       "      <td>1</td>\n",
       "      <td>0</td>\n",
       "      <td>0</td>\n",
       "    </tr>\n",
       "  </tbody>\n",
       "</table>\n",
       "</div>"
      ],
      "text/plain": [
       "                                               title           location  \\\n",
       "0                     architect middleware mq kuwait              kw ku   \n",
       "1  interviewing sales rep positions management tr...  tx corpus christi   \n",
       "2  process controls staff engineer foxboro tricon...   tx usa southwest   \n",
       "3  experienced telemarketer wanted digital solutions             au nsw   \n",
       "4                            senior network engineer      gb eng london   \n",
       "\n",
       "                                         description  \\\n",
       "0  behalf client known multinational retail compa...   \n",
       "1  argenta field solutions rapidly expanding awar...   \n",
       "2  experienced process controls staff engineer re...   \n",
       "3  passion people love sell telephone roles overv...   \n",
       "4  successful senior network engineer jncia certi...   \n",
       "\n",
       "                                        requirements  telecommuting  \\\n",
       "0  working technical knowledge systems fundamenta...              0   \n",
       "1                                                                 0   \n",
       "2  10 years degreed professional experience minim...              0   \n",
       "3  responsibilities prospecting following lead ge...              0   \n",
       "4  essential skills juniper switching routing sec...              0   \n",
       "\n",
       "   has_company_logo  has_questions  fraudulent  \n",
       "0                 1              0           0  \n",
       "1                 1              0           0  \n",
       "2                 0              0           0  \n",
       "3                 1              0           0  \n",
       "4                 1              0           0  "
      ]
     },
     "execution_count": 102,
     "metadata": {},
     "output_type": "execute_result"
    }
   ],
   "source": [
    "df.head()"
   ]
  },
  {
   "cell_type": "markdown",
   "metadata": {},
   "source": [
    "<h2> Vectrorize the Data and transform in to Matrix. </h2>"
   ]
  },
  {
   "cell_type": "code",
   "execution_count": 103,
   "metadata": {},
   "outputs": [],
   "source": [
    "vectorizer = TfidfVectorizer()"
   ]
  },
  {
   "cell_type": "code",
   "execution_count": 106,
   "metadata": {},
   "outputs": [],
   "source": [
    "def vectorize_data(column):\n",
    "    df[column] = vectorizer.fit_transform(df[column]).toarray()\n",
    "text_columns = ['title','location','description','requirements']"
   ]
  },
  {
   "cell_type": "code",
   "execution_count": 107,
   "metadata": {},
   "outputs": [],
   "source": [
    "for column in text_columns:\n",
    "    vectorize_data(column)"
   ]
  },
  {
   "cell_type": "code",
   "execution_count": 110,
   "metadata": {},
   "outputs": [
    {
     "data": {
      "text/html": [
       "<div>\n",
       "<style scoped>\n",
       "    .dataframe tbody tr th:only-of-type {\n",
       "        vertical-align: middle;\n",
       "    }\n",
       "\n",
       "    .dataframe tbody tr th {\n",
       "        vertical-align: top;\n",
       "    }\n",
       "\n",
       "    .dataframe thead th {\n",
       "        text-align: right;\n",
       "    }\n",
       "</style>\n",
       "<table border=\"1\" class=\"dataframe\">\n",
       "  <thead>\n",
       "    <tr style=\"text-align: right;\">\n",
       "      <th></th>\n",
       "      <th>title</th>\n",
       "      <th>location</th>\n",
       "      <th>description</th>\n",
       "      <th>requirements</th>\n",
       "      <th>telecommuting</th>\n",
       "      <th>has_company_logo</th>\n",
       "      <th>has_questions</th>\n",
       "      <th>fraudulent</th>\n",
       "    </tr>\n",
       "  </thead>\n",
       "  <tbody>\n",
       "    <tr>\n",
       "      <th>400</th>\n",
       "      <td>0.0</td>\n",
       "      <td>0.0</td>\n",
       "      <td>0.0</td>\n",
       "      <td>0.0</td>\n",
       "      <td>0</td>\n",
       "      <td>0</td>\n",
       "      <td>0</td>\n",
       "      <td>0</td>\n",
       "    </tr>\n",
       "    <tr>\n",
       "      <th>401</th>\n",
       "      <td>0.0</td>\n",
       "      <td>0.0</td>\n",
       "      <td>0.0</td>\n",
       "      <td>0.0</td>\n",
       "      <td>0</td>\n",
       "      <td>1</td>\n",
       "      <td>1</td>\n",
       "      <td>0</td>\n",
       "    </tr>\n",
       "    <tr>\n",
       "      <th>402</th>\n",
       "      <td>0.0</td>\n",
       "      <td>0.0</td>\n",
       "      <td>0.0</td>\n",
       "      <td>0.0</td>\n",
       "      <td>0</td>\n",
       "      <td>0</td>\n",
       "      <td>1</td>\n",
       "      <td>0</td>\n",
       "    </tr>\n",
       "    <tr>\n",
       "      <th>403</th>\n",
       "      <td>0.0</td>\n",
       "      <td>0.0</td>\n",
       "      <td>0.0</td>\n",
       "      <td>0.0</td>\n",
       "      <td>0</td>\n",
       "      <td>1</td>\n",
       "      <td>1</td>\n",
       "      <td>0</td>\n",
       "    </tr>\n",
       "    <tr>\n",
       "      <th>404</th>\n",
       "      <td>0.0</td>\n",
       "      <td>0.0</td>\n",
       "      <td>0.0</td>\n",
       "      <td>0.0</td>\n",
       "      <td>0</td>\n",
       "      <td>1</td>\n",
       "      <td>1</td>\n",
       "      <td>0</td>\n",
       "    </tr>\n",
       "    <tr>\n",
       "      <th>...</th>\n",
       "      <td>...</td>\n",
       "      <td>...</td>\n",
       "      <td>...</td>\n",
       "      <td>...</td>\n",
       "      <td>...</td>\n",
       "      <td>...</td>\n",
       "      <td>...</td>\n",
       "      <td>...</td>\n",
       "    </tr>\n",
       "    <tr>\n",
       "      <th>495</th>\n",
       "      <td>0.0</td>\n",
       "      <td>0.0</td>\n",
       "      <td>0.0</td>\n",
       "      <td>0.0</td>\n",
       "      <td>0</td>\n",
       "      <td>1</td>\n",
       "      <td>1</td>\n",
       "      <td>0</td>\n",
       "    </tr>\n",
       "    <tr>\n",
       "      <th>496</th>\n",
       "      <td>0.0</td>\n",
       "      <td>0.0</td>\n",
       "      <td>0.0</td>\n",
       "      <td>0.0</td>\n",
       "      <td>0</td>\n",
       "      <td>1</td>\n",
       "      <td>0</td>\n",
       "      <td>0</td>\n",
       "    </tr>\n",
       "    <tr>\n",
       "      <th>497</th>\n",
       "      <td>0.0</td>\n",
       "      <td>0.0</td>\n",
       "      <td>0.0</td>\n",
       "      <td>0.0</td>\n",
       "      <td>1</td>\n",
       "      <td>1</td>\n",
       "      <td>1</td>\n",
       "      <td>0</td>\n",
       "    </tr>\n",
       "    <tr>\n",
       "      <th>498</th>\n",
       "      <td>0.0</td>\n",
       "      <td>0.0</td>\n",
       "      <td>0.0</td>\n",
       "      <td>0.0</td>\n",
       "      <td>0</td>\n",
       "      <td>1</td>\n",
       "      <td>0</td>\n",
       "      <td>0</td>\n",
       "    </tr>\n",
       "    <tr>\n",
       "      <th>499</th>\n",
       "      <td>0.0</td>\n",
       "      <td>0.0</td>\n",
       "      <td>0.0</td>\n",
       "      <td>0.0</td>\n",
       "      <td>1</td>\n",
       "      <td>0</td>\n",
       "      <td>0</td>\n",
       "      <td>0</td>\n",
       "    </tr>\n",
       "  </tbody>\n",
       "</table>\n",
       "<p>100 rows × 8 columns</p>\n",
       "</div>"
      ],
      "text/plain": [
       "     title  location  description  requirements  telecommuting  \\\n",
       "400    0.0       0.0          0.0           0.0              0   \n",
       "401    0.0       0.0          0.0           0.0              0   \n",
       "402    0.0       0.0          0.0           0.0              0   \n",
       "403    0.0       0.0          0.0           0.0              0   \n",
       "404    0.0       0.0          0.0           0.0              0   \n",
       "..     ...       ...          ...           ...            ...   \n",
       "495    0.0       0.0          0.0           0.0              0   \n",
       "496    0.0       0.0          0.0           0.0              0   \n",
       "497    0.0       0.0          0.0           0.0              1   \n",
       "498    0.0       0.0          0.0           0.0              0   \n",
       "499    0.0       0.0          0.0           0.0              1   \n",
       "\n",
       "     has_company_logo  has_questions  fraudulent  \n",
       "400                 0              0           0  \n",
       "401                 1              1           0  \n",
       "402                 0              1           0  \n",
       "403                 1              1           0  \n",
       "404                 1              1           0  \n",
       "..                ...            ...         ...  \n",
       "495                 1              1           0  \n",
       "496                 1              0           0  \n",
       "497                 1              1           0  \n",
       "498                 1              0           0  \n",
       "499                 0              0           0  \n",
       "\n",
       "[100 rows x 8 columns]"
      ]
     },
     "execution_count": 110,
     "metadata": {},
     "output_type": "execute_result"
    }
   ],
   "source": [
    "df[400:500]"
   ]
  },
  {
   "cell_type": "markdown",
   "metadata": {},
   "source": [
    "<center><h1> Model Training </h1></center>"
   ]
  },
  {
   "cell_type": "code",
   "execution_count": 111,
   "metadata": {},
   "outputs": [],
   "source": [
    "X = df.drop(['fraudulent'], axis=1).values"
   ]
  },
  {
   "cell_type": "code",
   "execution_count": 112,
   "metadata": {},
   "outputs": [],
   "source": [
    "Y = df['fraudulent'].values"
   ]
  },
  {
   "cell_type": "code",
   "execution_count": 113,
   "metadata": {},
   "outputs": [],
   "source": [
    "x_train, x_test, y_train, y_test = train_test_split(X, Y, test_size=0.20, random_state=0)"
   ]
  },
  {
   "cell_type": "code",
   "execution_count": 114,
   "metadata": {},
   "outputs": [
    {
     "data": {
      "text/plain": [
       "MultinomialNB()"
      ]
     },
     "execution_count": 114,
     "metadata": {},
     "output_type": "execute_result"
    }
   ],
   "source": [
    "classifier = MultinomialNB()\n",
    "classifier.fit(x_train, y_train)"
   ]
  },
  {
   "cell_type": "code",
   "execution_count": 115,
   "metadata": {},
   "outputs": [],
   "source": [
    "y_pred = classifier.predict(x_test)"
   ]
  },
  {
   "cell_type": "code",
   "execution_count": 116,
   "metadata": {},
   "outputs": [
    {
     "data": {
      "text/plain": [
       "array([0, 0, 0, ..., 0, 0, 0], dtype=int64)"
      ]
     },
     "execution_count": 116,
     "metadata": {},
     "output_type": "execute_result"
    }
   ],
   "source": [
    "y_pred"
   ]
  },
  {
   "cell_type": "code",
   "execution_count": 131,
   "metadata": {},
   "outputs": [],
   "source": [
    "accuracy = accuracy_score(y_test, y_pred)\n",
    "f_score = f1_score(y_test, y_pred,average=None)"
   ]
  },
  {
   "cell_type": "markdown",
   "metadata": {},
   "source": [
    "<center> <h1> Accuracy </h1> </center>"
   ]
  },
  {
   "cell_type": "code",
   "execution_count": 139,
   "metadata": {},
   "outputs": [
    {
     "name": "stdout",
     "output_type": "stream",
     "text": [
      "Accuracy score is 95.36\n"
     ]
    }
   ],
   "source": [
    "print(\"Accuracy score is {}\".format(round(accuracy*100,2)))"
   ]
  },
  {
   "cell_type": "markdown",
   "metadata": {},
   "source": [
    "<center> <h1> F1 Score </h1> </center>"
   ]
  },
  {
   "cell_type": "code",
   "execution_count": 137,
   "metadata": {},
   "outputs": [
    {
     "name": "stdout",
     "output_type": "stream",
     "text": [
      "F1 Score is 1.0:\n"
     ]
    }
   ],
   "source": [
    "print(\"F1 Score is {}:\".format(round(f_score[0])))"
   ]
  },
  {
   "cell_type": "code",
   "execution_count": 154,
   "metadata": {},
   "outputs": [],
   "source": [
    "file = open('fake_job.pkl', 'wb')\n",
    "pickle.dump(classifier, file)\n",
    "file.close()"
   ]
  },
  {
   "cell_type": "markdown",
   "metadata": {},
   "source": [
    "<h3> Loading Model From Pickle </h3> "
   ]
  },
  {
   "cell_type": "code",
   "execution_count": 156,
   "metadata": {},
   "outputs": [],
   "source": [
    "file = open('fake_job.pkl', 'rb')\n",
    "model = pickle.load(file)"
   ]
  },
  {
   "cell_type": "code",
   "execution_count": 157,
   "metadata": {},
   "outputs": [
    {
     "data": {
      "text/plain": [
       "array([0, 0, 0, ..., 0, 0, 0], dtype=int64)"
      ]
     },
     "execution_count": 157,
     "metadata": {},
     "output_type": "execute_result"
    }
   ],
   "source": [
    "model.predict(x_test)"
   ]
  },
  {
   "cell_type": "code",
   "execution_count": null,
   "metadata": {},
   "outputs": [],
   "source": []
  }
 ],
 "metadata": {
  "kernelspec": {
   "display_name": "Python 3",
   "language": "python",
   "name": "python3"
  },
  "language_info": {
   "codemirror_mode": {
    "name": "ipython",
    "version": 3
   },
   "file_extension": ".py",
   "mimetype": "text/x-python",
   "name": "python",
   "nbconvert_exporter": "python",
   "pygments_lexer": "ipython3",
   "version": "3.8.3"
  }
 },
 "nbformat": 4,
 "nbformat_minor": 4
}
